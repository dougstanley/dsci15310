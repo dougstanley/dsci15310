{
 "metadata": {
  "name": "9-23-13"
 },
 "nbformat": 3,
 "nbformat_minor": 0,
 "worksheets": [
  {
   "cells": [
    {
     "cell_type": "markdown",
     "metadata": {},
     "source": "Notes 9/23/13\n=============\n\n### Recap\n\nKeyboard input, or how to get info from the user, using raw_input:"
    },
    {
     "cell_type": "code",
     "collapsed": false,
     "input": "name = raw_input(\"What's your name? \")\nprint \"Hello\", name",
     "language": "python",
     "metadata": {},
     "outputs": [
      {
       "name": "stdout",
       "output_type": "stream",
       "stream": "stdout",
       "text": "What's your name? ted\n"
      },
      {
       "output_type": "stream",
       "stream": "stdout",
       "text": "Hello ted\n"
      }
     ],
     "prompt_number": 1
    },
    {
     "cell_type": "code",
     "collapsed": false,
     "input": "age = raw_input(\"How old are you? \")\nprint float(age)",
     "language": "python",
     "metadata": {},
     "outputs": [
      {
       "name": "stdout",
       "output_type": "stream",
       "stream": "stdout",
       "text": "How old are you? 5\n"
      },
      {
       "output_type": "stream",
       "stream": "stdout",
       "text": "5.0\n"
      }
     ],
     "prompt_number": 5
    },
    {
     "cell_type": "markdown",
     "metadata": {},
     "source": "## Fruitful functions\n\n"
    },
    {
     "cell_type": "code",
     "collapsed": false,
     "input": "import math\ndef area(radius):\n    return math.pi * radius**2\n\nprint area(5)",
     "language": "python",
     "metadata": {},
     "outputs": [
      {
       "output_type": "stream",
       "stream": "stdout",
       "text": "78.5398163397\n"
      }
     ],
     "prompt_number": 6
    },
    {
     "cell_type": "code",
     "collapsed": false,
     "input": "def test2():\n    print \"hey\"\n    return\n\ndef echo(something):\n    return something\n    \ndef bad():\n    return echo",
     "language": "python",
     "metadata": {},
     "outputs": [],
     "prompt_number": 7
    },
    {
     "cell_type": "code",
     "collapsed": false,
     "input": "def distance(x1, y1, x2, y2):\n    return 0.0\n\ndistance(5,6,7,8)",
     "language": "python",
     "metadata": {},
     "outputs": [
      {
       "metadata": {},
       "output_type": "pyout",
       "prompt_number": 9,
       "text": "0.0"
      }
     ],
     "prompt_number": 9
    },
    {
     "cell_type": "code",
     "collapsed": false,
     "input": "def distance(x1, y1, x2, y2):\n    dx = x2 - x1\n    dy = y2 - y1\n    print 'dx is', dx\n    print 'dy is', dy\n    return 0.0\n\ndistance(5,6,7,8)",
     "language": "python",
     "metadata": {},
     "outputs": [
      {
       "output_type": "stream",
       "stream": "stdout",
       "text": "dx is 2\ndy is 2\n"
      },
      {
       "metadata": {},
       "output_type": "pyout",
       "prompt_number": 10,
       "text": "0.0"
      }
     ],
     "prompt_number": 10
    },
    {
     "cell_type": "code",
     "collapsed": false,
     "input": "def distance(x1, y1, x2, y2):\n    dx = x2 - x1\n    dy = y2 - y1\n    dsquared = dx**2 + dy**2\n    print 'dsquared is: ', dsquared\n    return 0.0\ndistance(5,6,7,8)",
     "language": "python",
     "metadata": {},
     "outputs": [
      {
       "output_type": "stream",
       "stream": "stdout",
       "text": "dsquared is:  8\n"
      },
      {
       "metadata": {},
       "output_type": "pyout",
       "prompt_number": 11,
       "text": "0.0"
      }
     ],
     "prompt_number": 11
    },
    {
     "cell_type": "code",
     "collapsed": false,
     "input": "import math\ndef distance(x1, y1, x2, y2):\n    dx = x2 - x1\n    dy = y2 - y1\n    dsquared = dx**2 + dy**2\n    result = math.sqrt(dsquared)\n    return result\ndistance(1,4,17,19)",
     "language": "python",
     "metadata": {},
     "outputs": [
      {
       "metadata": {},
       "output_type": "pyout",
       "prompt_number": 13,
       "text": "21.93171219946131"
      }
     ],
     "prompt_number": 13
    },
    {
     "cell_type": "markdown",
     "metadata": {},
     "source": "## Recursion\n"
    },
    {
     "cell_type": "code",
     "collapsed": false,
     "input": "def factorial(n):\n    space = ' ' * (4 * n)\n    print space, 'factorial', n\n    if n == 0:\n        print space, 'returning 1'\n        return 1\n    else:\n        recurse = factorial(n-1)\n        result = n * recurse\n        print space, 'returning', result\n        return result\nfactorial(6)",
     "language": "python",
     "metadata": {},
     "outputs": [
      {
       "output_type": "stream",
       "stream": "stdout",
       "text": "                         factorial 6\n                     factorial 5\n                 factorial 4\n             factorial 3\n         factorial 2\n     factorial 1\n factorial 0\n returning 1\n     returning 1\n         returning 2\n             returning 6\n                 returning 24\n                     returning 120\n                         returning 720\n"
      },
      {
       "metadata": {},
       "output_type": "pyout",
       "prompt_number": 14,
       "text": "720"
      }
     ],
     "prompt_number": 14
    }
   ],
   "metadata": {}
  }
 ]
}