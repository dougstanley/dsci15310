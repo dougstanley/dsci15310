{
 "metadata": {
  "name": "10-7-13"
 },
 "nbformat": 3,
 "nbformat_minor": 0,
 "worksheets": [
  {
   "cells": [
    {
     "cell_type": "markdown",
     "metadata": {},
     "source": "# 10/07/13\n"
    },
    {
     "cell_type": "code",
     "collapsed": false,
     "input": "",
     "language": "python",
     "metadata": {},
     "outputs": []
    },
    {
     "cell_type": "markdown",
     "metadata": {},
     "source": "\n\n## Chapter 7 - Iteration\n\n### Multiple Assignment"
    },
    {
     "cell_type": "code",
     "collapsed": false,
     "input": "x = 1\n\nx = x + 1\nx = x + 1\nx = x + 1\n\nprint x",
     "language": "python",
     "metadata": {},
     "outputs": [
      {
       "output_type": "stream",
       "stream": "stdout",
       "text": "4\n"
      }
     ],
     "prompt_number": 1
    },
    {
     "cell_type": "markdown",
     "metadata": {},
     "source": "### while loop\n"
    },
    {
     "cell_type": "code",
     "collapsed": false,
     "input": "while x <= 100:\n    x = x + 1\n\nprint x",
     "language": "python",
     "metadata": {},
     "outputs": [
      {
       "output_type": "stream",
       "stream": "stdout",
       "text": "101\n"
      }
     ],
     "prompt_number": 3
    },
    {
     "cell_type": "markdown",
     "metadata": {},
     "source": "### Countdown and print_n revisited\n"
    },
    {
     "cell_type": "code",
     "collapsed": false,
     "input": "def countdown(n):\n    x = n\n    while x > 0:\n        print x\n        x = x - 1\ncountdown(10)",
     "language": "python",
     "metadata": {},
     "outputs": [
      {
       "output_type": "stream",
       "stream": "stdout",
       "text": "10\n9\n8\n7\n6\n5\n4\n3\n2\n1\n"
      }
     ],
     "prompt_number": 5
    },
    {
     "cell_type": "code",
     "collapsed": false,
     "input": "def print_n(s, n):\n    while n > 0:\n        print s\n        n = n - 1\nprint_n(\"xkcd\", 5)",
     "language": "python",
     "metadata": {},
     "outputs": [
      {
       "output_type": "stream",
       "stream": "stdout",
       "text": "xkcd\nxkcd\nxkcd\nxkcd\nxkcd\n"
      }
     ],
     "prompt_number": 8
    },
    {
     "cell_type": "markdown",
     "metadata": {},
     "source": "### break keyword\n"
    },
    {
     "cell_type": "code",
     "collapsed": false,
     "input": "while True:\n    line = raw_input('> ')\n    if line == 'done':\n        break\n    print line\n\nprint 'Done!'",
     "language": "python",
     "metadata": {},
     "outputs": [
      {
       "name": "stdout",
       "output_type": "stream",
       "stream": "stdout",
       "text": "> ted\n"
      },
      {
       "output_type": "stream",
       "stream": "stdout",
       "text": "ted\n"
      },
      {
       "name": "stdout",
       "output_type": "stream",
       "stream": "stdout",
       "text": "> hi ted\n"
      },
      {
       "output_type": "stream",
       "stream": "stdout",
       "text": "hi ted\n"
      },
      {
       "name": "stdout",
       "output_type": "stream",
       "stream": "stdout",
       "text": "> i'm bored\n"
      },
      {
       "output_type": "stream",
       "stream": "stdout",
       "text": "i'm bored\n"
      },
      {
       "name": "stdout",
       "output_type": "stream",
       "stream": "stdout",
       "text": "> done\n"
      },
      {
       "output_type": "stream",
       "stream": "stdout",
       "text": "Done!\n"
      }
     ],
     "prompt_number": 9
    },
    {
     "cell_type": "code",
     "collapsed": false,
     "input": "a = 42.0\nx = 33.0\nwhile True:\n    print x\n    y = float( (x + a/x) / 2 )\n    if y == x:\n        break\n    x = y",
     "language": "python",
     "metadata": {},
     "outputs": [
      {
       "output_type": "stream",
       "stream": "stdout",
       "text": "33.0\n17.1363636364\n9.79364600916\n7.04107040543\n6.50303627014\n6.48077891844\n6.48074069852\n6.48074069841\n"
      }
     ],
     "prompt_number": 16
    },
    {
     "cell_type": "code",
     "collapsed": false,
     "input": "import math\nprint math.sqrt(42)",
     "language": "python",
     "metadata": {},
     "outputs": [
      {
       "output_type": "stream",
       "stream": "stdout",
       "text": "6.48074069841\n"
      }
     ],
     "prompt_number": 17
    },
    {
     "cell_type": "code",
     "collapsed": false,
     "input": "",
     "language": "python",
     "metadata": {},
     "outputs": []
    }
   ],
   "metadata": {}
  }
 ]
}