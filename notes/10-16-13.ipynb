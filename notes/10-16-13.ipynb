{
 "metadata": {
  "name": "10-16-13"
 },
 "nbformat": 3,
 "nbformat_minor": 0,
 "worksheets": [
  {
   "cells": [
    {
     "cell_type": "markdown",
     "metadata": {},
     "source": "# 10/16/13\n\n## Lists a new type of sequence"
    },
    {
     "cell_type": "code",
     "collapsed": false,
     "input": "ages = [ 23, 45, 19, 48 ]\nitems = [ 5, 'dog', False, 7.34, None, type, raw_input ]\nfor item in items:\n    print item",
     "language": "python",
     "metadata": {},
     "outputs": [
      {
       "output_type": "stream",
       "stream": "stdout",
       "text": "5\ndog\nFalse\n7.34\nNone\n<type 'type'>\n<function <lambda> at 0x02FECDF0>\n"
      }
     ],
     "prompt_number": 3
    },
    {
     "cell_type": "code",
     "collapsed": false,
     "input": "print len(items)\nprint items[1]",
     "language": "python",
     "metadata": {},
     "outputs": [
      {
       "output_type": "stream",
       "stream": "stdout",
       "text": "7\ndog\n"
      }
     ],
     "prompt_number": 5
    },
    {
     "cell_type": "code",
     "collapsed": false,
     "input": "x = items[1:4]\nfor item in x:\n    print item",
     "language": "python",
     "metadata": {},
     "outputs": [
      {
       "output_type": "stream",
       "stream": "stdout",
       "text": "dog\nFalse\n7.34\n"
      }
     ],
     "prompt_number": 6
    },
    {
     "cell_type": "code",
     "collapsed": false,
     "input": "print x[0]\nx[0] = 'pie'\nprint x[0]",
     "language": "python",
     "metadata": {},
     "outputs": [
      {
       "output_type": "stream",
       "stream": "stdout",
       "text": "dog\npie\n"
      }
     ],
     "prompt_number": 7
    },
    {
     "cell_type": "code",
     "collapsed": false,
     "input": "print len(x)\nx.append(17)\nprint len(x)",
     "language": "python",
     "metadata": {},
     "outputs": [
      {
       "output_type": "stream",
       "stream": "stdout",
       "text": "3\n4\n"
      }
     ],
     "prompt_number": 8
    },
    {
     "cell_type": "code",
     "collapsed": false,
     "input": "x.remove(17)\nprint len(x)",
     "language": "python",
     "metadata": {},
     "outputs": [
      {
       "output_type": "stream",
       "stream": "stdout",
       "text": "3\n"
      }
     ],
     "prompt_number": 10
    },
    {
     "cell_type": "code",
     "collapsed": false,
     "input": "numbers = [5, 6, 9,2, 0,10]\nprint numbers\nnumbers.sort()\nprint numbers",
     "language": "python",
     "metadata": {},
     "outputs": [
      {
       "output_type": "stream",
       "stream": "stdout",
       "text": "[5, 6, 9, 2, 0, 10]\n[0, 2, 5, 6, 9, 10]\n"
      }
     ],
     "prompt_number": 12
    },
    {
     "cell_type": "code",
     "collapsed": false,
     "input": "names = ['tom','bob','apple','jack']\nprint names\nnames.sort()\nprint names",
     "language": "python",
     "metadata": {},
     "outputs": [
      {
       "output_type": "stream",
       "stream": "stdout",
       "text": "['tom', 'bob', 'apple', 'jack']\n['apple', 'bob', 'jack', 'tom']\n"
      }
     ],
     "prompt_number": 13
    },
    {
     "cell_type": "code",
     "collapsed": false,
     "input": "many_lists = [ [ 1, 2,3 ], ['dog', 'cat', 'bird'], [9.7,3.4] ]\nprint many_lists[0]\nprint len(many_lists)",
     "language": "python",
     "metadata": {},
     "outputs": [
      {
       "output_type": "stream",
       "stream": "stdout",
       "text": "[1, 2, 3]\n3\n"
      }
     ],
     "prompt_number": 14
    },
    {
     "cell_type": "code",
     "collapsed": false,
     "input": "total = 0\nfor l in many_lists:\n    if type(l) == list:\n        total = total + len(l)\nprint total",
     "language": "python",
     "metadata": {},
     "outputs": [
      {
       "output_type": "stream",
       "stream": "stdout",
       "text": "8\n"
      }
     ],
     "prompt_number": 16
    },
    {
     "cell_type": "code",
     "collapsed": false,
     "input": "new_list = []\nnew_list.append(5)\nnew_list.append('cat')\n\nprint new_list",
     "language": "python",
     "metadata": {},
     "outputs": [
      {
       "output_type": "stream",
       "stream": "stdout",
       "text": "[5, 'cat']\n"
      }
     ],
     "prompt_number": 19
    },
    {
     "cell_type": "code",
     "collapsed": false,
     "input": "new_list = list()\nprint new_list",
     "language": "python",
     "metadata": {},
     "outputs": [
      {
       "output_type": "stream",
       "stream": "stdout",
       "text": "[]\n"
      }
     ],
     "prompt_number": 20
    },
    {
     "cell_type": "code",
     "collapsed": false,
     "input": "a = []\nb = [5,3]\n\nprint bool(a)\nprint bool(b)",
     "language": "python",
     "metadata": {},
     "outputs": [
      {
       "output_type": "stream",
       "stream": "stdout",
       "text": "False\nTrue\n"
      }
     ],
     "prompt_number": 21
    },
    {
     "cell_type": "code",
     "collapsed": false,
     "input": "items = [1 , 5, 7]\nif 5 in items:\n    print \"5 is in there\"",
     "language": "python",
     "metadata": {},
     "outputs": [
      {
       "output_type": "stream",
       "stream": "stdout",
       "text": "5 is in there\n"
      }
     ],
     "prompt_number": 22
    },
    {
     "cell_type": "code",
     "collapsed": false,
     "input": "name = raw_input(\"What is your name? \")\nif name == 'Fred':\n    print \"You are on the list\"\nelif name == 'Tome':\n    print \"You are on the list\"\nelif name == 'Jane':\n    print \"You are on the list\"\nelif name == 'Susan':\n    print \"You are on the list\"\nelse:\n    print \"You are NOT on the list\"",
     "language": "python",
     "metadata": {},
     "outputs": [
      {
       "name": "stdout",
       "output_type": "stream",
       "stream": "stdout",
       "text": "What is your name? Steve\n"
      },
      {
       "output_type": "stream",
       "stream": "stdout",
       "text": "You are NOT on the list\n"
      }
     ],
     "prompt_number": 23
    },
    {
     "cell_type": "markdown",
     "metadata": {},
     "source": "Can be simplified as"
    },
    {
     "cell_type": "code",
     "collapsed": false,
     "input": "allowed = [\"Fred\", \"Tome\",\"Jane\",\"Susan\"]\nname = raw_input(\"What is your name? \")\nif name in allowed:\n    print \"You are on the list\"\nelse:\n    print \"You are NOT on the list\"",
     "language": "python",
     "metadata": {},
     "outputs": [
      {
       "name": "stdout",
       "output_type": "stream",
       "stream": "stdout",
       "text": "What is your name? Jane\n"
      },
      {
       "output_type": "stream",
       "stream": "stdout",
       "text": "You are on the list\n"
      }
     ],
     "prompt_number": 24
    },
    {
     "cell_type": "code",
     "collapsed": false,
     "input": "print range(5)",
     "language": "python",
     "metadata": {},
     "outputs": [
      {
       "output_type": "stream",
       "stream": "stdout",
       "text": "[0, 1, 2, 3, 4]\n"
      }
     ],
     "prompt_number": 25
    },
    {
     "cell_type": "code",
     "collapsed": false,
     "input": "print range(1,5)",
     "language": "python",
     "metadata": {},
     "outputs": [
      {
       "output_type": "stream",
       "stream": "stdout",
       "text": "[1, 2, 3, 4]\n"
      }
     ],
     "prompt_number": 26
    },
    {
     "cell_type": "code",
     "collapsed": false,
     "input": "print range(1,6,2)",
     "language": "python",
     "metadata": {},
     "outputs": [
      {
       "output_type": "stream",
       "stream": "stdout",
       "text": "[1, 3, 5]\n"
      }
     ],
     "prompt_number": 28
    },
    {
     "cell_type": "code",
     "collapsed": false,
     "input": "for n in range(5):\n    print n",
     "language": "python",
     "metadata": {},
     "outputs": [
      {
       "output_type": "stream",
       "stream": "stdout",
       "text": "0\n1\n2\n3\n4\n"
      }
     ],
     "prompt_number": 29
    },
    {
     "cell_type": "code",
     "collapsed": false,
     "input": "",
     "language": "python",
     "metadata": {},
     "outputs": [],
     "prompt_number": 29
    },
    {
     "cell_type": "code",
     "collapsed": false,
     "input": "word = \"whifflebat\"\nfor letter in word:\n    print letter\nfor i in range( len(word) ):\n    print word[i]",
     "language": "python",
     "metadata": {},
     "outputs": [
      {
       "output_type": "stream",
       "stream": "stdout",
       "text": "w\nh\ni\nf\nf\nl\ne\nb\na\nt\nw\nh\ni\nf\nf\nl\ne\nb\na\nt\n"
      }
     ],
     "prompt_number": 31
    },
    {
     "cell_type": "code",
     "collapsed": false,
     "input": "print [1,2,3] + [4, 5,6]\nprint ['a','b'] * 3\n",
     "language": "python",
     "metadata": {},
     "outputs": [
      {
       "output_type": "stream",
       "stream": "stdout",
       "text": "[1, 2, 3, 4, 5, 6]\n['a', 'b', 'a', 'b', 'a', 'b']\n"
      }
     ],
     "prompt_number": 32
    },
    {
     "cell_type": "code",
     "collapsed": false,
     "input": "print ( ['a','b'] * 3 )[2:5]",
     "language": "python",
     "metadata": {},
     "outputs": [
      {
       "output_type": "stream",
       "stream": "stdout",
       "text": "['a', 'b', 'a']\n"
      }
     ],
     "prompt_number": 34
    },
    {
     "cell_type": "code",
     "collapsed": false,
     "input": "test = [raw_input,]\ntest[0](\"Did this work?\")\n",
     "language": "python",
     "metadata": {},
     "outputs": [
      {
       "name": "stdout",
       "output_type": "stream",
       "stream": "stdout",
       "text": "Did this work?yes\n"
      },
      {
       "metadata": {},
       "output_type": "pyout",
       "prompt_number": 35,
       "text": "'yes'"
      }
     ],
     "prompt_number": 35
    },
    {
     "cell_type": "code",
     "collapsed": false,
     "input": "print x\ndel x[0]\nprint x",
     "language": "python",
     "metadata": {},
     "outputs": [
      {
       "output_type": "stream",
       "stream": "stdout",
       "text": "[False, 7.34]\n[7.34]\n"
      }
     ],
     "prompt_number": 41
    },
    {
     "cell_type": "code",
     "collapsed": false,
     "input": "x.append(5)\nprint x\nx.pop()\nprint x",
     "language": "python",
     "metadata": {},
     "outputs": [
      {
       "output_type": "stream",
       "stream": "stdout",
       "text": "[7.34, 5]\n[7.34]\n"
      }
     ],
     "prompt_number": 42
    },
    {
     "cell_type": "code",
     "collapsed": false,
     "input": "x.append(4)\nx.append(7)\nprint x\nx.remove(4)\nprint x",
     "language": "python",
     "metadata": {},
     "outputs": [
      {
       "output_type": "stream",
       "stream": "stdout",
       "text": "[7.34, 4, 7]\n[7.34, 7]\n"
      }
     ],
     "prompt_number": 43
    },
    {
     "cell_type": "code",
     "collapsed": false,
     "input": "word = 'kite'\nletters = list(word)\nprint letters",
     "language": "python",
     "metadata": {},
     "outputs": [
      {
       "output_type": "stream",
       "stream": "stdout",
       "text": "['k', 'i', 't', 'e']\n"
      }
     ],
     "prompt_number": 45
    },
    {
     "cell_type": "code",
     "collapsed": false,
     "input": "",
     "language": "python",
     "metadata": {},
     "outputs": []
    }
   ],
   "metadata": {}
  }
 ]
}