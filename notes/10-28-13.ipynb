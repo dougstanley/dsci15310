{
 "metadata": {
  "name": "10-28-13"
 },
 "nbformat": 3,
 "nbformat_minor": 0,
 "worksheets": [
  {
   "cells": [
    {
     "cell_type": "markdown",
     "metadata": {},
     "source": "# 10/28/2013\n"
    },
    {
     "cell_type": "code",
     "collapsed": false,
     "input": "a = dict()\nb = {}\n",
     "language": "python",
     "metadata": {},
     "outputs": [],
     "prompt_number": 1
    },
    {
     "cell_type": "code",
     "collapsed": false,
     "input": "a['a'] = 'a'\nb[0] = 6\n",
     "language": "python",
     "metadata": {},
     "outputs": [],
     "prompt_number": 2
    },
    {
     "cell_type": "code",
     "collapsed": false,
     "input": "len(a)",
     "language": "python",
     "metadata": {},
     "outputs": [
      {
       "metadata": {},
       "output_type": "pyout",
       "prompt_number": 3,
       "text": "1"
      }
     ],
     "prompt_number": 3
    },
    {
     "cell_type": "markdown",
     "metadata": {},
     "source": "## Dictionaries vs Lists\n\nIterating over a list gives values.\n\nIterating over a dictionary gives keys."
    },
    {
     "cell_type": "code",
     "collapsed": false,
     "input": "a = [ 1,2,'apple','cat',False]\nb = {1:'apple',2:'cat',3:False}\n\nprint \"Iterating through list\"\nfor item in a:\n    print item\n\nprint \"\\n Iterating through dictionary\"\nfor item in b:\n    print item",
     "language": "python",
     "metadata": {},
     "outputs": [
      {
       "output_type": "stream",
       "stream": "stdout",
       "text": "Iterating through list\n1\n2\napple\ncat\nFalse\n\n Iterating through dictionary\n1\n2\n3\n"
      }
     ],
     "prompt_number": 4
    },
    {
     "cell_type": "markdown",
     "metadata": {},
     "source": "Changing the above code to make it work like iterating through a list."
    },
    {
     "cell_type": "code",
     "collapsed": false,
     "input": "for item in b:\n    print b[item]\n\nprint \"OR you can\"\n\nfor item in b.values():\n    print item",
     "language": "python",
     "metadata": {},
     "outputs": [
      {
       "output_type": "stream",
       "stream": "stdout",
       "text": "apple\ncat\nFalse\nOR you can\napple\ncat\nFalse\n"
      }
     ],
     "prompt_number": 5
    },
    {
     "cell_type": "code",
     "collapsed": false,
     "input": "word = \"too\"\ncounts = {}\nfor letter in word:\n    if letter in counts:\n        counts[letter] = counts[letter] + 1\n    else:\n        counts[letter] = 1\n\nprint counts",
     "language": "python",
     "metadata": {},
     "outputs": [
      {
       "output_type": "stream",
       "stream": "stdout",
       "text": "{'t': 1, 'o': 2}\n"
      }
     ],
     "prompt_number": 10
    },
    {
     "cell_type": "code",
     "collapsed": false,
     "input": "ages = {'susan':23,'calvin':41,'tommy':23,'sid':9}\ndef invert_dict(d):\n    inverse = dict()\n    for key in d:\n        val = d[key]\n        if val not in inverse:\n            inverse[val] = [key]\n        else:\n            inverse[val].append(key)\n    return inverse\n\nprint invert_dict(ages)",
     "language": "python",
     "metadata": {},
     "outputs": [
      {
       "output_type": "stream",
       "stream": "stdout",
       "text": "{9: ['sid'], 41: ['calvin'], 23: ['tommy', 'susan']}\n"
      }
     ],
     "prompt_number": 12
    },
    {
     "cell_type": "markdown",
     "metadata": {},
     "source": "## Global variables\n"
    },
    {
     "cell_type": "markdown",
     "metadata": {},
     "source": "valid = False\n\ndef test():\n    valid = True\n    print \"inside test, after assignment\", valid\n\ndef test2():\n    global valid\n    print \"inside test2, before assignment\", valid\n    valid = True\n    print \"inside test2, after assignment\", valid\n\ntest()\nprint \"outside test, after calling test\", valid\ntest2()\nprint \"outside test2, after calling test\", valid\n"
    },
    {
     "cell_type": "markdown",
     "metadata": {},
     "source": "**Globals should really only be used \"read only\"**\n"
    },
    {
     "cell_type": "code",
     "collapsed": false,
     "input": "",
     "language": "python",
     "metadata": {},
     "outputs": []
    }
   ],
   "metadata": {}
  }
 ]
}