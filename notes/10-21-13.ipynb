{
 "metadata": {
  "name": "10-21-13"
 },
 "nbformat": 3,
 "nbformat_minor": 0,
 "worksheets": [
  {
   "cells": [
    {
     "cell_type": "markdown",
     "metadata": {},
     "source": "# 10/21/13\n\nlists in lists"
    },
    {
     "cell_type": "code",
     "collapsed": false,
     "input": "lists = [ [1,2,3], [4,5,6], [7,8,9] ]\nprint lists[0]\nprint lists[0][0]",
     "language": "python",
     "metadata": {},
     "outputs": [
      {
       "output_type": "stream",
       "stream": "stdout",
       "text": "[1, 2, 3]\n1\n"
      }
     ],
     "prompt_number": 1
    },
    {
     "cell_type": "code",
     "collapsed": false,
     "input": "#same as\nprint \"WorDs thAT aRE nOt CapitALiZed CorRectlY\".lower().title()",
     "language": "python",
     "metadata": {},
     "outputs": [
      {
       "output_type": "stream",
       "stream": "stdout",
       "text": "Words That Are Not Capitalized Correctly\n"
      }
     ],
     "prompt_number": 2
    },
    {
     "cell_type": "code",
     "collapsed": false,
     "input": "word_lists = [ [\"cat\",\"dog\",\"fish\"], [\"red\",\"blue\",\"green\"] ]\nprint word_lists[1][2].title()",
     "language": "python",
     "metadata": {},
     "outputs": [
      {
       "output_type": "stream",
       "stream": "stdout",
       "text": "Green\n"
      }
     ],
     "prompt_number": 4
    },
    {
     "cell_type": "markdown",
     "metadata": {},
     "source": "is keyword"
    },
    {
     "cell_type": "code",
     "collapsed": false,
     "input": "a = 7\nb = 7\nprint a == b\nprint a is b",
     "language": "python",
     "metadata": {},
     "outputs": [
      {
       "output_type": "stream",
       "stream": "stdout",
       "text": "True\nTrue\n"
      }
     ],
     "prompt_number": 6
    },
    {
     "cell_type": "code",
     "collapsed": false,
     "input": "a = 'dog'\nb = 'dog'\nprint a == b\nprint a is b",
     "language": "python",
     "metadata": {},
     "outputs": [
      {
       "output_type": "stream",
       "stream": "stdout",
       "text": "True\nTrue\n"
      }
     ],
     "prompt_number": 8
    },
    {
     "cell_type": "code",
     "collapsed": false,
     "input": "a = [ 1,2 ]\nb = [ 1,2 ]\n\nprint a == b\nprint a is b\n\na.append(5)\nb.append(3)\n\nprint a\nprint b\ndel a\ndel b",
     "language": "python",
     "metadata": {},
     "outputs": [
      {
       "output_type": "stream",
       "stream": "stdout",
       "text": "True\nFalse\n[1, 2, 5]\n[1, 2, 3]\n"
      }
     ],
     "prompt_number": 10
    },
    {
     "cell_type": "code",
     "collapsed": false,
     "input": "a = [ 1, 2]\nb = a\n\nprint a == b\nprint a is b",
     "language": "python",
     "metadata": {},
     "outputs": [
      {
       "output_type": "stream",
       "stream": "stdout",
       "text": "True\nTrue\n"
      }
     ],
     "prompt_number": 11
    },
    {
     "cell_type": "code",
     "collapsed": false,
     "input": "a.append(3)\nprint b",
     "language": "python",
     "metadata": {},
     "outputs": [
      {
       "output_type": "stream",
       "stream": "stdout",
       "text": "[1, 2, 3]\n"
      }
     ],
     "prompt_number": 12
    },
    {
     "cell_type": "code",
     "collapsed": false,
     "input": "x = False\nprint x is False",
     "language": "python",
     "metadata": {},
     "outputs": [
      {
       "output_type": "stream",
       "stream": "stdout",
       "text": "True\n"
      }
     ],
     "prompt_number": 13
    },
    {
     "cell_type": "code",
     "collapsed": false,
     "input": "a = [1,2]\nb = a + [3]\n\nprint a\nprint b",
     "language": "python",
     "metadata": {},
     "outputs": [
      {
       "output_type": "stream",
       "stream": "stdout",
       "text": "[1, 2]\n[1, 2, 3]\n"
      }
     ],
     "prompt_number": 15
    },
    {
     "cell_type": "code",
     "collapsed": false,
     "input": "a = [1 , 2]\nb = a\n\nb = a + [3]\na = a + [3]\n\nprint a == b\nprint a is b",
     "language": "python",
     "metadata": {},
     "outputs": [
      {
       "output_type": "stream",
       "stream": "stdout",
       "text": "True\nFalse\n"
      }
     ],
     "prompt_number": 16
    },
    {
     "cell_type": "code",
     "collapsed": false,
     "input": "def del_head(t):\n    del t[0]\n\ndef tail(t):\n    return t[1:]\n\na = [1,2,3]\nb = [1,2,3]\n\nprint a\ndel_head(a)\nprint a\n\nprint b\nprint tail(b)\nprint b",
     "language": "python",
     "metadata": {},
     "outputs": [
      {
       "output_type": "stream",
       "stream": "stdout",
       "text": "[1, 2, 3]\n[2, 3]\n[1, 2, 3]\n[2, 3]\n[1, 2, 3]\n"
      }
     ],
     "prompt_number": 17
    },
    {
     "cell_type": "code",
     "collapsed": false,
     "input": "a = [1,2,3]\nb = a[:]\nc = list(a)\nd = a + []\n\nprint a\nprint b\nprint c\nprint d\nprint a is c\ndel a[0]\nprint d",
     "language": "python",
     "metadata": {},
     "outputs": [
      {
       "output_type": "stream",
       "stream": "stdout",
       "text": "[1, 2, 3]\n[1, 2, 3]\n[1, 2, 3]\n[1, 2, 3]\nFalse\n[1, 2, 3]\n"
      }
     ],
     "prompt_number": 22
    },
    {
     "cell_type": "code",
     "collapsed": false,
     "input": "",
     "language": "python",
     "metadata": {},
     "outputs": []
    }
   ],
   "metadata": {}
  }
 ]
}