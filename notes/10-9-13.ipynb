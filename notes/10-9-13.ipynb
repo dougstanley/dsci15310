{
 "metadata": {
  "name": "10-9-13"
 },
 "nbformat": 3,
 "nbformat_minor": 0,
 "worksheets": [
  {
   "cells": [
    {
     "cell_type": "markdown",
     "metadata": {},
     "source": "# 10/9/13\n\n## Strings are sequences of characters\n"
    },
    {
     "cell_type": "code",
     "collapsed": false,
     "input": "word = 'computer'\n#print first letter of word\nprint word[0]\nprint word[1]\nprint word[7]\nprint word[-1]\nprint word[-2]\nprint word[1:5]\nprint word[3:-1]\nprint word[1:-2]\nprint word[3:]\nprint word[:4]",
     "language": "python",
     "metadata": {},
     "outputs": [
      {
       "output_type": "stream",
       "stream": "stdout",
       "text": "c\no\nr\nr\ne\nompu\npute\nomput\nputer\ncomp\n"
      }
     ],
     "prompt_number": 10
    },
    {
     "cell_type": "code",
     "collapsed": false,
     "input": "print \"The length of word is\", len(word)",
     "language": "python",
     "metadata": {},
     "outputs": [
      {
       "output_type": "stream",
       "stream": "stdout",
       "text": "The length of word is 8\n"
      }
     ],
     "prompt_number": 11
    },
    {
     "cell_type": "code",
     "collapsed": false,
     "input": "word = raw_input(\"Please type a word: \")\nprint \"The word you entered is\", len(word), \"characters long!\"",
     "language": "python",
     "metadata": {},
     "outputs": [
      {
       "name": "stdout",
       "output_type": "stream",
       "stream": "stdout",
       "text": "Please type a word: fork\n"
      },
      {
       "output_type": "stream",
       "stream": "stdout",
       "text": "The word you entered is 4 characters long!\n"
      }
     ],
     "prompt_number": 12
    },
    {
     "cell_type": "code",
     "collapsed": false,
     "input": "#take a string from the user\n#print out each character individually\nword = raw_input(\"Please give me a word: \")\ncount = len(word)\nx = 0\nwhile x < count:\n    print word[x]\n    x = x + 1",
     "language": "python",
     "metadata": {},
     "outputs": [
      {
       "name": "stdout",
       "output_type": "stream",
       "stream": "stdout",
       "text": "Please give me a word: iphone\n"
      },
      {
       "output_type": "stream",
       "stream": "stdout",
       "text": "i\np\nh\no\nn\ne\n"
      }
     ],
     "prompt_number": 15
    },
    {
     "cell_type": "code",
     "collapsed": false,
     "input": "word = raw_input(\"Please give me a word: \")\nfor character in word:\n    print character",
     "language": "python",
     "metadata": {},
     "outputs": [
      {
       "name": "stdout",
       "output_type": "stream",
       "stream": "stdout",
       "text": "Please give me a word: iphone\n"
      },
      {
       "output_type": "stream",
       "stream": "stdout",
       "text": "i\np\nh\no\nn\ne\n"
      }
     ],
     "prompt_number": 17
    },
    {
     "cell_type": "code",
     "collapsed": false,
     "input": "word = raw_input(\"Please give me a word: \")\nfor character in word:\n    print character\n    if character == 'g':\n        break",
     "language": "python",
     "metadata": {},
     "outputs": [
      {
       "name": "stdout",
       "output_type": "stream",
       "stream": "stdout",
       "text": "Please give me a word: goose\n"
      },
      {
       "output_type": "stream",
       "stream": "stdout",
       "text": "g\n"
      }
     ],
     "prompt_number": 19
    },
    {
     "cell_type": "markdown",
     "metadata": {},
     "source": "## Strings are immutable!\n\nYou cannot change the value of a string."
    },
    {
     "cell_type": "code",
     "collapsed": false,
     "input": "word = 'fluffy'\nword[0] = 'x'",
     "language": "python",
     "metadata": {},
     "outputs": [
      {
       "ename": "TypeError",
       "evalue": "'str' object does not support item assignment",
       "output_type": "pyerr",
       "traceback": [
        "\u001b[1;31m---------------------------------------------------------------------------\u001b[0m\n\u001b[1;31mTypeError\u001b[0m                                 Traceback (most recent call last)",
        "\u001b[1;32m<ipython-input-20-840d4977a1b7>\u001b[0m in \u001b[0;36m<module>\u001b[1;34m()\u001b[0m\n\u001b[0;32m      1\u001b[0m \u001b[0mword\u001b[0m \u001b[1;33m=\u001b[0m \u001b[1;34m'fluffy'\u001b[0m\u001b[1;33m\u001b[0m\u001b[0m\n\u001b[1;32m----> 2\u001b[1;33m \u001b[0mword\u001b[0m\u001b[1;33m[\u001b[0m\u001b[1;36m0\u001b[0m\u001b[1;33m]\u001b[0m \u001b[1;33m=\u001b[0m \u001b[1;34m'x'\u001b[0m\u001b[1;33m\u001b[0m\u001b[0m\n\u001b[0m",
        "\u001b[1;31mTypeError\u001b[0m: 'str' object does not support item assignment"
       ]
      }
     ],
     "prompt_number": 20
    },
    {
     "cell_type": "code",
     "collapsed": false,
     "input": "word = 'bob'\nword = 'B' + word[1:]\nprint word",
     "language": "python",
     "metadata": {},
     "outputs": [
      {
       "output_type": "stream",
       "stream": "stdout",
       "text": "Bob\n"
      }
     ],
     "prompt_number": 21
    },
    {
     "cell_type": "markdown",
     "metadata": {},
     "source": "## Searching inside strings\n"
    },
    {
     "cell_type": "code",
     "collapsed": false,
     "input": "def find(word, letter):\n    index = 0\n    while index < len(word):\n        if word[index] == letter:\n            return index\n        index = index + 1\n    return -1\n\nprint find( \"puppy dog\", \"y\" )",
     "language": "python",
     "metadata": {},
     "outputs": [
      {
       "output_type": "stream",
       "stream": "stdout",
       "text": "4\n"
      }
     ],
     "prompt_number": 22
    },
    {
     "cell_type": "code",
     "collapsed": false,
     "input": "phrase = \"puppy dog\"\nspace = find( phrase, \" \" )\nprint phrase[:space]\nprint phrase[space+1:]",
     "language": "python",
     "metadata": {},
     "outputs": [
      {
       "output_type": "stream",
       "stream": "stdout",
       "text": "puppy\ndog\n"
      }
     ],
     "prompt_number": 25
    },
    {
     "cell_type": "code",
     "collapsed": false,
     "input": "def find(word, letter, index):\n    while index < len(word):\n        if word[index] == letter:\n            return index\n        index = index + 1\n    return -1\n\nprint find( \"puppy dog\", \"y\", 5 )",
     "language": "python",
     "metadata": {},
     "outputs": [
      {
       "output_type": "stream",
       "stream": "stdout",
       "text": "-1\n"
      }
     ],
     "prompt_number": 30
    },
    {
     "cell_type": "markdown",
     "metadata": {},
     "source": "## String methods"
    },
    {
     "cell_type": "code",
     "collapsed": false,
     "input": "word = \"banana\"\nprint word.upper()",
     "language": "python",
     "metadata": {},
     "outputs": [
      {
       "output_type": "stream",
       "stream": "stdout",
       "text": "BANANA\n"
      }
     ],
     "prompt_number": 31
    },
    {
     "cell_type": "code",
     "collapsed": false,
     "input": "print word.find('a')",
     "language": "python",
     "metadata": {},
     "outputs": [
      {
       "output_type": "stream",
       "stream": "stdout",
       "text": "1\n"
      }
     ],
     "prompt_number": 32
    },
    {
     "cell_type": "code",
     "collapsed": false,
     "input": "print \"dog\".upper()",
     "language": "python",
     "metadata": {},
     "outputs": [
      {
       "output_type": "stream",
       "stream": "stdout",
       "text": "DOG\n"
      }
     ],
     "prompt_number": 33
    },
    {
     "cell_type": "code",
     "collapsed": false,
     "input": "",
     "language": "python",
     "metadata": {},
     "outputs": []
    }
   ],
   "metadata": {}
  }
 ]
}